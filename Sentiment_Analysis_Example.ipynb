{
  "nbformat": 4,
  "nbformat_minor": 0,
  "metadata": {
    "colab": {
      "name": "Sentiment Analysis Example",
      "provenance": [],
      "include_colab_link": true
    },
    "kernelspec": {
      "name": "python3",
      "display_name": "Python 3"
    }
  },
  "cells": [
    {
      "cell_type": "markdown",
      "metadata": {
        "id": "view-in-github",
        "colab_type": "text"
      },
      "source": [
        "<a href=\"https://colab.research.google.com/github/dianrdn/text-mining/blob/main/Sentiment_Analysis_Example.ipynb\" target=\"_parent\"><img src=\"https://colab.research.google.com/assets/colab-badge.svg\" alt=\"Open In Colab\"/></a>"
      ]
    },
    {
      "cell_type": "markdown",
      "metadata": {
        "id": "xTVpdAnjjdm1"
      },
      "source": [
        "### **Sentiment Analysis**"
      ]
    },
    {
      "cell_type": "code",
      "metadata": {
        "id": "X9LpvI8C1tCb"
      },
      "source": [
        "# Import Library\n",
        "import pandas as pd "
      ],
      "execution_count": null,
      "outputs": []
    },
    {
      "cell_type": "code",
      "metadata": {
        "id": "Kp1rO_upbh88"
      },
      "source": [
        "# Import Modules\n",
        "from sklearn.feature_extraction.text import CountVectorizer # to create Bag of words\n",
        "from sklearn.model_selection import train_test_split  # for splitting data\n",
        "from sklearn.naive_bayes import GaussianNB # to bulid classifier model\n",
        "from sklearn.preprocessing import LabelEncoder # to convert classes to number \n",
        "from sklearn.metrics import accuracy_score # to calculate accuracy"
      ],
      "execution_count": null,
      "outputs": []
    },
    {
      "cell_type": "code",
      "metadata": {
        "id": "daJA40gOX31_"
      },
      "source": [
        "# Import Train Data\n",
        "df_grab = pd.read_csv('https://raw.githubusercontent.com/rcdbe/sma-online/master/day-3/Source/grab-tweet.csv', sep = ';')\n",
        "df_grab.head()"
      ],
      "execution_count": null,
      "outputs": []
    },
    {
      "cell_type": "code",
      "metadata": {
        "id": "WQ6nleQKZ5oW"
      },
      "source": [
        "# Count the Sentiment\n",
        "df_grab.sentiment.value_counts()"
      ],
      "execution_count": null,
      "outputs": []
    },
    {
      "cell_type": "code",
      "metadata": {
        "id": "vVAhU45Tw86p"
      },
      "source": [
        "# Feature Extraction\n",
        "count_vector = CountVectorizer()  \n",
        "grab_feature = count_vector.fit_transform(df_grab['text']).toarray()\n",
        "grab_feature"
      ],
      "execution_count": null,
      "outputs": []
    },
    {
      "cell_type": "code",
      "metadata": {
        "id": "51qqAfQyfFHY"
      },
      "source": [
        "# Crate as Dataframe\n",
        "grab_feature_matrix = pd.DataFrame(grab_feature,columns=count_vector.get_feature_names())\n",
        "grab_feature_matrix.head()"
      ],
      "execution_count": null,
      "outputs": []
    },
    {
      "cell_type": "code",
      "metadata": {
        "id": "zChazFSYaXjf"
      },
      "source": [
        "# Encode Target\n",
        "encoder = LabelEncoder()\n",
        "grab_label = encoder.fit_transform(df_grab['sentiment'])\n",
        "grab_label"
      ],
      "execution_count": null,
      "outputs": []
    },
    {
      "cell_type": "code",
      "metadata": {
        "id": "mANHXjUbci5P"
      },
      "source": [
        "# Set Training and Testing Data (70:30)\n",
        "feature_train, feature_test, target_train, target_test = train_test_split(grab_feature, grab_label, shuffle = True, test_size=0.3, random_state=1)\n",
        "\n",
        "# Show the Training and Testing Data\n",
        "print(feature_train.shape)\n",
        "print(feature_test.shape)\n",
        "print(target_train.shape)\n",
        "print(target_test.shape)"
      ],
      "execution_count": null,
      "outputs": []
    },
    {
      "cell_type": "code",
      "metadata": {
        "id": "DqPt1xamaldd"
      },
      "source": [
        "# Train Naive Bayes Model\n",
        "nb = GaussianNB().fit(feature_train, target_train)\n",
        "\n",
        "# Predict to Test Data\n",
        "target_predicted = nb.predict(feature_test) \n",
        "target_predicted "
      ],
      "execution_count": null,
      "outputs": []
    },
    {
      "cell_type": "code",
      "metadata": {
        "id": "jqMIi9tRaqkm"
      },
      "source": [
        "print('Test model accuracy: ',accuracy_score(target_test, target_predicted))"
      ],
      "execution_count": null,
      "outputs": []
    },
    {
      "cell_type": "code",
      "metadata": {
        "id": "9R8odXorasuX"
      },
      "source": [
        "# Input New Statement\n",
        "new_statement = ['saya suka grab'] \n",
        "\n",
        "# Extract Features\n",
        "new_statement_features = count_vector.transform(new_statement).toarray()\n",
        "\n",
        "## encodeing predict class\n",
        "predict_sentiment = encoder.inverse_transform(nb.predict(new_statement_features))\n",
        "print(new_statement[0], 'sentiment: ',predict_sentiment[0])"
      ],
      "execution_count": null,
      "outputs": []
    }
  ]
}