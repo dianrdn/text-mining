{
  "nbformat": 4,
  "nbformat_minor": 0,
  "metadata": {
    "colab": {
      "name": "Feature Extraction - Example",
      "provenance": [],
      "authorship_tag": "ABX9TyP01P30TvEDq75bc3AOH8SM",
      "include_colab_link": true
    },
    "kernelspec": {
      "name": "python3",
      "display_name": "Python 3"
    }
  },
  "cells": [
    {
      "cell_type": "markdown",
      "metadata": {
        "id": "view-in-github",
        "colab_type": "text"
      },
      "source": [
        "<a href=\"https://colab.research.google.com/github/dianrdn/text-mining/blob/main/Feature_Extraction_Example.ipynb\" target=\"_parent\"><img src=\"https://colab.research.google.com/assets/colab-badge.svg\" alt=\"Open In Colab\"/></a>"
      ]
    },
    {
      "cell_type": "markdown",
      "metadata": {
        "id": "l8hi_06FvuFL"
      },
      "source": [
        "# **Feature Extraction**"
      ]
    },
    {
      "cell_type": "markdown",
      "metadata": {
        "id": "xzokUG-L4YqI"
      },
      "source": [
        "Machine Learning algorithms learn from a pre-defined set of features from the training data to produce output for the test data. But the main problem in working with language processing is that machine learning algorithms cannot work on the raw text directly. So, we need some feature extraction techniques to convert text into a matrix(or vector) of features. Commonly used techniques are Count Vectorizer and TF-IDF Vectorizer.\n"
      ]
    },
    {
      "cell_type": "markdown",
      "metadata": {
        "id": "1kfLSJYotmp8"
      },
      "source": [
        "## **Count Vectorization**"
      ]
    },
    {
      "cell_type": "code",
      "metadata": {
        "id": "UPGwrei9ptps"
      },
      "source": [
        "# Import Library\n",
        "import sklearn"
      ],
      "execution_count": null,
      "outputs": []
    },
    {
      "cell_type": "code",
      "metadata": {
        "id": "qPKytIviqDnK"
      },
      "source": [
        "# Import Modul\n",
        "from sklearn.feature_extraction.text import CountVectorizer"
      ],
      "execution_count": null,
      "outputs": []
    },
    {
      "cell_type": "code",
      "metadata": {
        "id": "YPYh7SayqP4y"
      },
      "source": [
        "# Imput Text\n",
        "text =[\"aku suka grab karena murah\", \"grab cepat sampai\",  \"aku suka diskon grab\"]"
      ],
      "execution_count": null,
      "outputs": []
    },
    {
      "cell_type": "code",
      "metadata": {
        "id": "5qHmdJpPqZe9"
      },
      "source": [
        "# Count Vectorizer\n",
        "count_vectorizer = CountVectorizer()\n",
        "count_vector = count_vectorizer.fit_transform(text)"
      ],
      "execution_count": null,
      "outputs": []
    },
    {
      "cell_type": "code",
      "metadata": {
        "id": "ALt-Z530powr"
      },
      "source": [
        "# Matrix Dimention\n",
        "count_vector.shape"
      ],
      "execution_count": null,
      "outputs": []
    },
    {
      "cell_type": "code",
      "metadata": {
        "id": "wsee9W3-q0Dy"
      },
      "source": [
        "# Show Vocabulary\n",
        "count_vectorizer.vocabulary_"
      ],
      "execution_count": null,
      "outputs": []
    },
    {
      "cell_type": "code",
      "metadata": {
        "id": "q8jFosHar85i"
      },
      "source": [
        "# Print Matrix\n",
        "count_vector.toarray()"
      ],
      "execution_count": null,
      "outputs": []
    },
    {
      "cell_type": "markdown",
      "metadata": {
        "id": "QDB7KDd3ttZH"
      },
      "source": [
        "## **TF-IDF Vectorizer**"
      ]
    },
    {
      "cell_type": "code",
      "metadata": {
        "id": "8Q9FgcmbtvK1"
      },
      "source": [
        "# Import Module\n",
        "from sklearn.feature_extraction.text import TfidfVectorizer"
      ],
      "execution_count": null,
      "outputs": []
    },
    {
      "cell_type": "code",
      "metadata": {
        "id": "xETL5t8Xtwg-"
      },
      "source": [
        "# TF-IDF Vectorizer\n",
        "tfidf_vectorizer = TfidfVectorizer()\n",
        "tfidf_vector = tfidf_vectorizer.fit_transform(text)"
      ],
      "execution_count": null,
      "outputs": []
    },
    {
      "cell_type": "code",
      "metadata": {
        "id": "SAvE4OUoucVs"
      },
      "source": [
        "# Matrix Dimention\n",
        "tfidf_vector.shape"
      ],
      "execution_count": null,
      "outputs": []
    },
    {
      "cell_type": "code",
      "metadata": {
        "id": "pdp7HyL65Q8q"
      },
      "source": [
        "# Show Vocabulary\n",
        "tfidf_vectorizer.vocabulary_"
      ],
      "execution_count": null,
      "outputs": []
    },
    {
      "cell_type": "code",
      "metadata": {
        "id": "-oDc60wouqlO"
      },
      "source": [
        "# Print Matrix\n",
        "tfidf_vector.toarray()"
      ],
      "execution_count": null,
      "outputs": []
    }
  ]
}